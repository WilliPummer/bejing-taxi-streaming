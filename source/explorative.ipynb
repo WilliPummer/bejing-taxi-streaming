{
 "cells": [
  {
   "cell_type": "code",
   "execution_count": 1,
   "metadata": {
    "collapsed": true
   },
   "outputs": [
    {
     "name": "stdout",
     "output_type": "stream",
     "text": [
      "<class 'pandas.core.frame.DataFrame'>\n",
      "DatetimeIndex: 145812 entries, 2008-02-02 13:30:44 to 2008-02-08 17:39:19\n",
      "Data columns (total 3 columns):\n",
      " #   Column  Non-Null Count   Dtype  \n",
      "---  ------  --------------   -----  \n",
      " 0   id      145812 non-null  int64  \n",
      " 1   lat     145812 non-null  float64\n",
      " 2   lon     145812 non-null  float64\n",
      "dtypes: float64(2), int64(1)\n",
      "memory usage: 4.4 MB\n"
     ]
    }
   ],
   "source": [
    "import numpy as np\n",
    "import pandas as pd\n",
    "from random import randrange\n",
    "import dateutil\n",
    "\n",
    "path = \"C:/Users/Willi/OneDrive/Documents/t-drive/select\"\n",
    "\n",
    "df = pd.read_csv(path + '/' + '3015.txt', index_col=1, delimiter=',', header=None, parse_dates=True)\n",
    "df.rename(columns={0: 'id', 1: 'date', 2: 'lat', 3: 'lon'}, inplace=True)\n",
    "df.index.names = ['date']\n",
    "df.info()\n"
   ]
  },
  {
   "cell_type": "code",
   "execution_count": 2,
   "outputs": [
    {
     "data": {
      "text/plain": "                       id        lat       lon\ndate                                          \n2008-02-02 13:30:44  3015  116.41036  39.89171\n2008-02-02 13:30:45  3015  116.41028  39.89170\n2008-02-02 13:30:46  3015  116.41022  39.89170\n2008-02-02 13:30:51  3015  116.41009  39.89172\n2008-02-02 13:30:52  3015  116.41009  39.89173",
      "text/html": "<div>\n<style scoped>\n    .dataframe tbody tr th:only-of-type {\n        vertical-align: middle;\n    }\n\n    .dataframe tbody tr th {\n        vertical-align: top;\n    }\n\n    .dataframe thead th {\n        text-align: right;\n    }\n</style>\n<table border=\"1\" class=\"dataframe\">\n  <thead>\n    <tr style=\"text-align: right;\">\n      <th></th>\n      <th>id</th>\n      <th>lat</th>\n      <th>lon</th>\n    </tr>\n    <tr>\n      <th>date</th>\n      <th></th>\n      <th></th>\n      <th></th>\n    </tr>\n  </thead>\n  <tbody>\n    <tr>\n      <th>2008-02-02 13:30:44</th>\n      <td>3015</td>\n      <td>116.41036</td>\n      <td>39.89171</td>\n    </tr>\n    <tr>\n      <th>2008-02-02 13:30:45</th>\n      <td>3015</td>\n      <td>116.41028</td>\n      <td>39.89170</td>\n    </tr>\n    <tr>\n      <th>2008-02-02 13:30:46</th>\n      <td>3015</td>\n      <td>116.41022</td>\n      <td>39.89170</td>\n    </tr>\n    <tr>\n      <th>2008-02-02 13:30:51</th>\n      <td>3015</td>\n      <td>116.41009</td>\n      <td>39.89172</td>\n    </tr>\n    <tr>\n      <th>2008-02-02 13:30:52</th>\n      <td>3015</td>\n      <td>116.41009</td>\n      <td>39.89173</td>\n    </tr>\n  </tbody>\n</table>\n</div>"
     },
     "execution_count": 2,
     "metadata": {},
     "output_type": "execute_result"
    }
   ],
   "source": [],
   "metadata": {
    "collapsed": false,
    "pycharm": {
     "name": "#%%\n"
    }
   }
  },
  {
   "cell_type": "code",
   "execution_count": 3,
   "outputs": [],
   "source": [
    "groups = [group[1] for group in df.groupby(df.index.date)]"
   ],
   "metadata": {
    "collapsed": false,
    "pycharm": {
     "name": "#%%\n"
    }
   }
  },
  {
   "cell_type": "code",
   "execution_count": 4,
   "outputs": [
    {
     "data": {
      "text/plain": "7"
     },
     "execution_count": 4,
     "metadata": {},
     "output_type": "execute_result"
    }
   ],
   "source": [
    "len(groups)"
   ],
   "metadata": {
    "collapsed": false,
    "pycharm": {
     "name": "#%%\n"
    }
   }
  },
  {
   "cell_type": "code",
   "execution_count": 4,
   "outputs": [],
   "source": [],
   "metadata": {
    "collapsed": false,
    "pycharm": {
     "name": "#%%\n"
    }
   }
  },
  {
   "cell_type": "code",
   "execution_count": 5,
   "outputs": [],
   "source": [
    "counter = 10000\n",
    "for group in groups:\n",
    "    group.id = group.id + counter\n",
    "    counter = counter + 10000\n",
    "    diff = group.index[0] - dateutil.parser.parse('2008-02-02 08:00:0' + str(randrange(10)))\n",
    "    group.index = group.index - diff"
   ],
   "metadata": {
    "collapsed": false,
    "pycharm": {
     "name": "#%%\n"
    }
   }
  },
  {
   "cell_type": "code",
   "execution_count": 6,
   "outputs": [
    {
     "data": {
      "text/plain": "[                        id        lat       lon\n date                                           \n 2008-02-02 08:00:07  13015  116.41036  39.89171\n 2008-02-02 08:00:08  13015  116.41028  39.89170\n 2008-02-02 08:00:09  13015  116.41022  39.89170\n 2008-02-02 08:00:14  13015  116.41009  39.89172\n 2008-02-02 08:00:15  13015  116.41009  39.89173\n ...                    ...        ...       ...\n 2008-02-02 18:29:09  13015  116.33291  39.91270\n 2008-02-02 18:29:10  13015  116.33291  39.91270\n 2008-02-02 18:29:11  13015  116.33291  39.91270\n 2008-02-02 18:29:12  13015  116.33291  39.91271\n 2008-02-02 18:29:13  13015  116.33291  39.91271\n \n [8624 rows x 3 columns],\n                         id        lat       lon\n date                                           \n 2008-02-02 08:00:07  23015  116.33682  39.91268\n 2008-02-02 08:00:24  23015  116.33707  39.91274\n 2008-02-02 08:00:24  23015  116.33707  39.91274\n 2008-02-02 08:00:30  23015  116.33761  39.91270\n 2008-02-02 08:00:31  23015  116.33773  39.91270\n ...                    ...        ...       ...\n 2008-02-03 07:59:30  23015  116.62580  39.92582\n 2008-02-03 07:59:31  23015  116.62598  39.92582\n 2008-02-03 07:59:32  23015  116.62616  39.92582\n 2008-02-03 07:59:33  23015  116.62634  39.92581\n 2008-02-03 07:59:34  23015  116.62651  39.92581\n \n [24851 rows x 3 columns],\n                         id        lat       lon\n date                                           \n 2008-02-02 08:00:01  33015  116.62685  39.92580\n 2008-02-02 08:00:03  33015  116.62719  39.92580\n 2008-02-02 08:00:05  33015  116.62753  39.92579\n 2008-02-02 08:00:07  33015  116.62786  39.92579\n 2008-02-02 08:00:16  33015  116.62928  39.92577\n ...                    ...        ...       ...\n 2008-02-03 07:52:56  33015  116.42669  39.83714\n 2008-02-03 07:53:36  33015  116.42669  39.83707\n 2008-02-03 07:53:48  33015  116.42670  39.83708\n 2008-02-03 07:53:49  33015  116.42670  39.83708\n 2008-02-03 07:53:54  33015  116.42671  39.83709\n \n [22465 rows x 3 columns],\n                         id        lat       lon\n date                                           \n 2008-02-02 08:00:08  43015  116.42674  39.83711\n 2008-02-02 08:00:49  43015  116.42670  39.83705\n 2008-02-02 08:01:00  43015  116.42652  39.83685\n 2008-02-02 08:01:00  43015  116.42652  39.83685\n 2008-02-02 08:01:01  43015  116.42649  39.83681\n ...                    ...        ...       ...\n 2008-02-03 07:46:54  43015  116.40521  39.94773\n 2008-02-03 07:46:54  43015  116.40521  39.94773\n 2008-02-03 07:46:58  43015  116.40452  39.94771\n 2008-02-03 07:47:00  43015  116.40415  39.94769\n 2008-02-03 07:50:14  43015  116.36373  39.94684\n \n [22020 rows x 3 columns],\n                         id        lat       lon\n date                                           \n 2008-02-02 08:00:08  53015  116.34899  39.94096\n 2008-02-02 08:00:08  53015  116.34899  39.94096\n 2008-02-02 08:00:19  53015  116.34901  39.93993\n 2008-02-02 08:00:20  53015  116.34900  39.93983\n 2008-02-02 08:00:26  53015  116.34866  39.93934\n ...                    ...        ...       ...\n 2008-02-03 07:57:48  53015  116.46688  39.92876\n 2008-02-03 07:57:49  53015  116.46689  39.92876\n 2008-02-03 07:57:50  53015  116.46689  39.92876\n 2008-02-03 07:57:51  53015  116.46689  39.92876\n 2008-02-03 07:58:24  53015  116.46689  39.92878\n \n [21677 rows x 3 columns],\n                         id        lat       lon\n date                                           \n 2008-02-02 08:00:06  63015  116.46666  39.92944\n 2008-02-02 08:00:48  63015  116.47141  39.92972\n 2008-02-02 08:00:59  63015  116.47188  39.92972\n 2008-02-02 08:01:03  63015  116.47187  39.92971\n 2008-02-02 08:01:06  63015  116.47186  39.92971\n ...                    ...        ...       ...\n 2008-02-03 07:50:47  63015  116.45443  39.91308\n 2008-02-03 07:52:08  63015  116.44746  39.91396\n 2008-02-03 07:53:28  63015  116.44543  39.91438\n 2008-02-03 07:56:26  63015  116.44445  39.91452\n 2008-02-03 07:57:20  63015  116.44429  39.91456\n \n [22952 rows x 3 columns],\n                         id        lat       lon\n date                                           \n 2008-02-02 08:00:03  73015  116.44434  39.91453\n 2008-02-02 08:00:03  73015  116.44434  39.91453\n 2008-02-02 08:01:24  73015  116.44436  39.91461\n 2008-02-02 08:14:27  73015  116.44444  39.91467\n 2008-02-02 08:14:28  73015  116.44442  39.91468\n ...                    ...        ...       ...\n 2008-02-03 01:39:05  73015  116.40854  39.89968\n 2008-02-03 01:39:06  73015  116.40843  39.89968\n 2008-02-03 01:39:07  73015  116.40831  39.89968\n 2008-02-03 01:39:08  73015  116.40818  39.89967\n 2008-02-03 01:39:09  73015  116.40806  39.89967\n \n [23223 rows x 3 columns]]"
     },
     "execution_count": 6,
     "metadata": {},
     "output_type": "execute_result"
    }
   ],
   "source": [
    "groups"
   ],
   "metadata": {
    "collapsed": false,
    "pycharm": {
     "name": "#%%\n"
    }
   }
  },
  {
   "cell_type": "code",
   "execution_count": 7,
   "outputs": [],
   "source": [
    "final_df = groups.pop().reset_index()\n",
    "\n",
    "for group in groups:\n",
    "    final_df = pd.concat([final_df,group.reset_index()])\n"
   ],
   "metadata": {
    "collapsed": false,
    "pycharm": {
     "name": "#%%\n"
    }
   }
  },
  {
   "cell_type": "code",
   "execution_count": 8,
   "outputs": [],
   "source": [
    "final_df.sort_values(by=['date'], inplace=True)\n",
    "final_df = final_df.reset_index()"
   ],
   "metadata": {
    "collapsed": false,
    "pycharm": {
     "name": "#%%\n"
    }
   }
  },
  {
   "cell_type": "code",
   "execution_count": 9,
   "outputs": [],
   "source": [
    "final_df.drop(['index'], axis=1, inplace=True)"
   ],
   "metadata": {
    "collapsed": false,
    "pycharm": {
     "name": "#%%\n"
    }
   }
  },
  {
   "cell_type": "code",
   "execution_count": 10,
   "outputs": [],
   "source": [
    "final_df.to_csv('P-3015.csv')"
   ],
   "metadata": {
    "collapsed": false,
    "pycharm": {
     "name": "#%%\n"
    }
   }
  },
  {
   "cell_type": "code",
   "execution_count": 14,
   "outputs": [],
   "source": [
    "a = pd.read_csv('raw_data/P-3015.csv', index_col=1, delimiter=',', parse_dates=True)\n",
    "b = pd.read_csv('raw_data/P-6275.csv', index_col=1, delimiter=',', parse_dates=True)\n",
    "c = pd.concat([a,b])\n",
    "c.sort_values(by=['date'], inplace=True)\n",
    "c.reset_index(inplace=True)\n",
    "c = c.drop(columns=['index','inde'])\n",
    "c.to_csv('../producer/data/P-TEST.csv')"
   ],
   "metadata": {
    "collapsed": false,
    "pycharm": {
     "name": "#%%\n"
    }
   }
  },
  {
   "cell_type": "code",
   "execution_count": 34,
   "outputs": [
    {
     "name": "stdout",
     "output_type": "stream",
     "text": [
      "<class 'pandas.core.frame.DataFrame'>\n",
      "DatetimeIndex: 94939 entries, 2008-02-02 13:30:49 to 2008-02-08 17:39:15\n",
      "Data columns (total 3 columns):\n",
      " #   Column  Non-Null Count  Dtype  \n",
      "---  ------  --------------  -----  \n",
      " 0   id      94939 non-null  int64  \n",
      " 1   lat     94939 non-null  float64\n",
      " 2   lon     94939 non-null  float64\n",
      "dtypes: float64(2), int64(1)\n",
      "memory usage: 2.9 MB\n",
      "<class 'pandas.core.frame.DataFrame'>\n",
      "DatetimeIndex: 88055 entries, 2008-02-02 13:30:49 to 2008-02-08 17:38:19\n",
      "Data columns (total 3 columns):\n",
      " #   Column  Non-Null Count  Dtype  \n",
      "---  ------  --------------  -----  \n",
      " 0   id      88055 non-null  int64  \n",
      " 1   lat     88055 non-null  float64\n",
      " 2   lon     88055 non-null  float64\n",
      "dtypes: float64(2), int64(1)\n",
      "memory usage: 2.7 MB\n",
      "<class 'pandas.core.frame.DataFrame'>\n",
      "DatetimeIndex: 21366 entries, 2008-02-02 13:39:41 to 2008-02-08 17:33:54\n",
      "Data columns (total 3 columns):\n",
      " #   Column  Non-Null Count  Dtype  \n",
      "---  ------  --------------  -----  \n",
      " 0   id      21366 non-null  int64  \n",
      " 1   lat     21366 non-null  float64\n",
      " 2   lon     21366 non-null  float64\n",
      "dtypes: float64(2), int64(1)\n",
      "memory usage: 667.7 KB\n",
      "<class 'pandas.core.frame.DataFrame'>\n",
      "DatetimeIndex: 20249 entries, 2008-02-02 13:31:06 to 2008-02-08 16:40:14\n",
      "Data columns (total 3 columns):\n",
      " #   Column  Non-Null Count  Dtype  \n",
      "---  ------  --------------  -----  \n",
      " 0   id      20249 non-null  int64  \n",
      " 1   lat     20249 non-null  float64\n",
      " 2   lon     20249 non-null  float64\n",
      "dtypes: float64(2), int64(1)\n",
      "memory usage: 632.8 KB\n",
      "<class 'pandas.core.frame.DataFrame'>\n",
      "DatetimeIndex: 52939 entries, 2008-02-02 13:47:30 to 2008-02-08 17:39:15\n",
      "Data columns (total 3 columns):\n",
      " #   Column  Non-Null Count  Dtype  \n",
      "---  ------  --------------  -----  \n",
      " 0   id      52939 non-null  int64  \n",
      " 1   lat     52939 non-null  float64\n",
      " 2   lon     52939 non-null  float64\n",
      "dtypes: float64(2), int64(1)\n",
      "memory usage: 1.6 MB\n",
      "<class 'pandas.core.frame.DataFrame'>\n",
      "DatetimeIndex: 98464 entries, 2008-02-02 13:30:51 to 2008-02-08 17:39:17\n",
      "Data columns (total 3 columns):\n",
      " #   Column  Non-Null Count  Dtype  \n",
      "---  ------  --------------  -----  \n",
      " 0   id      98464 non-null  int64  \n",
      " 1   lat     98464 non-null  float64\n",
      " 2   lon     98464 non-null  float64\n",
      "dtypes: float64(2), int64(1)\n",
      "memory usage: 3.0 MB\n",
      "<class 'pandas.core.frame.DataFrame'>\n",
      "DatetimeIndex: 86029 entries, 2008-02-02 13:30:49 to 2008-02-08 17:39:17\n",
      "Data columns (total 3 columns):\n",
      " #   Column  Non-Null Count  Dtype  \n",
      "---  ------  --------------  -----  \n",
      " 0   id      86029 non-null  int64  \n",
      " 1   lat     86029 non-null  float64\n",
      " 2   lon     86029 non-null  float64\n",
      "dtypes: float64(2), int64(1)\n",
      "memory usage: 2.6 MB\n",
      "<class 'pandas.core.frame.DataFrame'>\n",
      "DatetimeIndex: 145812 entries, 2008-02-02 13:30:44 to 2008-02-08 17:39:19\n",
      "Data columns (total 3 columns):\n",
      " #   Column  Non-Null Count   Dtype  \n",
      "---  ------  --------------   -----  \n",
      " 0   id      145812 non-null  int64  \n",
      " 1   lat     145812 non-null  float64\n",
      " 2   lon     145812 non-null  float64\n",
      "dtypes: float64(2), int64(1)\n",
      "memory usage: 4.4 MB\n",
      "<class 'pandas.core.frame.DataFrame'>\n",
      "DatetimeIndex: 121667 entries, 2008-02-02 20:05:38 to 2008-02-08 17:39:19\n",
      "Data columns (total 3 columns):\n",
      " #   Column  Non-Null Count   Dtype  \n",
      "---  ------  --------------   -----  \n",
      " 0   id      121667 non-null  int64  \n",
      " 1   lat     121667 non-null  float64\n",
      " 2   lon     121667 non-null  float64\n",
      "dtypes: float64(2), int64(1)\n",
      "memory usage: 3.7 MB\n",
      "<class 'pandas.core.frame.DataFrame'>\n",
      "DatetimeIndex: 101843 entries, 2008-02-02 13:30:44 to 2008-02-08 14:28:07\n",
      "Data columns (total 3 columns):\n",
      " #   Column  Non-Null Count   Dtype  \n",
      "---  ------  --------------   -----  \n",
      " 0   id      101843 non-null  int64  \n",
      " 1   lat     101843 non-null  float64\n",
      " 2   lon     101843 non-null  float64\n",
      "dtypes: float64(2), int64(1)\n",
      "memory usage: 3.1 MB\n",
      "<class 'pandas.core.frame.DataFrame'>\n",
      "DatetimeIndex: 99494 entries, 2008-02-02 13:30:48 to 2008-02-08 17:39:17\n",
      "Data columns (total 3 columns):\n",
      " #   Column  Non-Null Count  Dtype  \n",
      "---  ------  --------------  -----  \n",
      " 0   id      99494 non-null  int64  \n",
      " 1   lat     99494 non-null  float64\n",
      " 2   lon     99494 non-null  float64\n",
      "dtypes: float64(2), int64(1)\n",
      "memory usage: 3.0 MB\n",
      "<class 'pandas.core.frame.DataFrame'>\n",
      "DatetimeIndex: 61466 entries, 2008-02-02 15:57:56 to 2008-02-08 16:43:32\n",
      "Data columns (total 3 columns):\n",
      " #   Column  Non-Null Count  Dtype  \n",
      "---  ------  --------------  -----  \n",
      " 0   id      61466 non-null  int64  \n",
      " 1   lat     61466 non-null  float64\n",
      " 2   lon     61466 non-null  float64\n",
      "dtypes: float64(2), int64(1)\n",
      "memory usage: 1.9 MB\n",
      "<class 'pandas.core.frame.DataFrame'>\n",
      "DatetimeIndex: 36773 entries, 2008-02-02 13:30:48 to 2008-02-08 17:39:09\n",
      "Data columns (total 3 columns):\n",
      " #   Column  Non-Null Count  Dtype  \n",
      "---  ------  --------------  -----  \n",
      " 0   id      36773 non-null  int64  \n",
      " 1   lat     36773 non-null  float64\n",
      " 2   lon     36773 non-null  float64\n",
      "dtypes: float64(2), int64(1)\n",
      "memory usage: 1.1 MB\n",
      "<class 'pandas.core.frame.DataFrame'>\n",
      "DatetimeIndex: 37810 entries, 2008-02-02 13:38:36 to 2008-02-08 17:33:30\n",
      "Data columns (total 3 columns):\n",
      " #   Column  Non-Null Count  Dtype  \n",
      "---  ------  --------------  -----  \n",
      " 0   id      37810 non-null  int64  \n",
      " 1   lat     37810 non-null  float64\n",
      " 2   lon     37810 non-null  float64\n",
      "dtypes: float64(2), int64(1)\n",
      "memory usage: 1.2 MB\n",
      "<class 'pandas.core.frame.DataFrame'>\n",
      "DatetimeIndex: 92136 entries, 2008-02-02 13:30:52 to 2008-02-08 17:39:12\n",
      "Data columns (total 3 columns):\n",
      " #   Column  Non-Null Count  Dtype  \n",
      "---  ------  --------------  -----  \n",
      " 0   id      92136 non-null  int64  \n",
      " 1   lat     92136 non-null  float64\n",
      " 2   lon     92136 non-null  float64\n",
      "dtypes: float64(2), int64(1)\n",
      "memory usage: 2.8 MB\n",
      "<class 'pandas.core.frame.DataFrame'>\n",
      "DatetimeIndex: 41459 entries, 2008-02-02 13:40:53 to 2008-02-08 17:39:19\n",
      "Data columns (total 3 columns):\n",
      " #   Column  Non-Null Count  Dtype  \n",
      "---  ------  --------------  -----  \n",
      " 0   id      41459 non-null  int64  \n",
      " 1   lat     41459 non-null  float64\n",
      " 2   lon     41459 non-null  float64\n",
      "dtypes: float64(2), int64(1)\n",
      "memory usage: 1.3 MB\n",
      "<class 'pandas.core.frame.DataFrame'>\n",
      "DatetimeIndex: 74483 entries, 2008-02-02 13:30:50 to 2008-02-08 17:39:16\n",
      "Data columns (total 3 columns):\n",
      " #   Column  Non-Null Count  Dtype  \n",
      "---  ------  --------------  -----  \n",
      " 0   id      74483 non-null  int64  \n",
      " 1   lat     74483 non-null  float64\n",
      " 2   lon     74483 non-null  float64\n",
      "dtypes: float64(2), int64(1)\n",
      "memory usage: 2.3 MB\n",
      "<class 'pandas.core.frame.DataFrame'>\n",
      "DatetimeIndex: 64917 entries, 2008-02-02 13:37:24 to 2008-02-08 17:39:19\n",
      "Data columns (total 3 columns):\n",
      " #   Column  Non-Null Count  Dtype  \n",
      "---  ------  --------------  -----  \n",
      " 0   id      64917 non-null  int64  \n",
      " 1   lat     64917 non-null  float64\n",
      " 2   lon     64917 non-null  float64\n",
      "dtypes: float64(2), int64(1)\n",
      "memory usage: 2.0 MB\n",
      "<class 'pandas.core.frame.DataFrame'>\n",
      "DatetimeIndex: 34108 entries, 2008-02-02 13:31:06 to 2008-02-08 17:39:06\n",
      "Data columns (total 3 columns):\n",
      " #   Column  Non-Null Count  Dtype  \n",
      "---  ------  --------------  -----  \n",
      " 0   id      34108 non-null  int64  \n",
      " 1   lat     34108 non-null  float64\n",
      " 2   lon     34108 non-null  float64\n",
      "dtypes: float64(2), int64(1)\n",
      "memory usage: 1.0 MB\n",
      "<class 'pandas.core.frame.DataFrame'>\n",
      "DatetimeIndex: 93823 entries, 2008-02-02 13:30:48 to 2008-02-08 16:55:57\n",
      "Data columns (total 3 columns):\n",
      " #   Column  Non-Null Count  Dtype  \n",
      "---  ------  --------------  -----  \n",
      " 0   id      93823 non-null  int64  \n",
      " 1   lat     93823 non-null  float64\n",
      " 2   lon     93823 non-null  float64\n",
      "dtypes: float64(2), int64(1)\n",
      "memory usage: 2.9 MB\n",
      "<class 'pandas.core.frame.DataFrame'>\n",
      "DatetimeIndex: 45038 entries, 2008-02-02 13:30:49 to 2008-02-08 17:39:19\n",
      "Data columns (total 3 columns):\n",
      " #   Column  Non-Null Count  Dtype  \n",
      "---  ------  --------------  -----  \n",
      " 0   id      45038 non-null  int64  \n",
      " 1   lat     45038 non-null  float64\n",
      " 2   lon     45038 non-null  float64\n",
      "dtypes: float64(2), int64(1)\n",
      "memory usage: 1.4 MB\n",
      "<class 'pandas.core.frame.DataFrame'>\n",
      "DatetimeIndex: 154688 entries, 2008-02-02 13:30:44 to 2008-02-08 17:39:15\n",
      "Data columns (total 3 columns):\n",
      " #   Column  Non-Null Count   Dtype  \n",
      "---  ------  --------------   -----  \n",
      " 0   id      154688 non-null  int64  \n",
      " 1   lat     154688 non-null  float64\n",
      " 2   lon     154688 non-null  float64\n",
      "dtypes: float64(2), int64(1)\n",
      "memory usage: 4.7 MB\n",
      "<class 'pandas.core.frame.DataFrame'>\n",
      "DatetimeIndex: 57426 entries, 2008-02-02 13:38:10 to 2008-02-08 17:39:19\n",
      "Data columns (total 3 columns):\n",
      " #   Column  Non-Null Count  Dtype  \n",
      "---  ------  --------------  -----  \n",
      " 0   id      57426 non-null  int64  \n",
      " 1   lat     57426 non-null  float64\n",
      " 2   lon     57426 non-null  float64\n",
      "dtypes: float64(2), int64(1)\n",
      "memory usage: 1.8 MB\n",
      "<class 'pandas.core.frame.DataFrame'>\n",
      "DatetimeIndex: 85751 entries, 2008-02-02 13:30:51 to 2008-02-08 17:31:25\n",
      "Data columns (total 3 columns):\n",
      " #   Column  Non-Null Count  Dtype  \n",
      "---  ------  --------------  -----  \n",
      " 0   id      85751 non-null  int64  \n",
      " 1   lat     85751 non-null  float64\n",
      " 2   lon     85751 non-null  float64\n",
      "dtypes: float64(2), int64(1)\n",
      "memory usage: 2.6 MB\n",
      "<class 'pandas.core.frame.DataFrame'>\n",
      "DatetimeIndex: 46566 entries, 2008-02-02 13:48:19 to 2008-02-08 14:10:37\n",
      "Data columns (total 3 columns):\n",
      " #   Column  Non-Null Count  Dtype  \n",
      "---  ------  --------------  -----  \n",
      " 0   id      46566 non-null  int64  \n",
      " 1   lat     46566 non-null  float64\n",
      " 2   lon     46566 non-null  float64\n",
      "dtypes: float64(2), int64(1)\n",
      "memory usage: 1.4 MB\n",
      "<class 'pandas.core.frame.DataFrame'>\n",
      "DatetimeIndex: 96257 entries, 2008-02-02 13:30:50 to 2008-02-08 17:39:18\n",
      "Data columns (total 3 columns):\n",
      " #   Column  Non-Null Count  Dtype  \n",
      "---  ------  --------------  -----  \n",
      " 0   id      96257 non-null  int64  \n",
      " 1   lat     96257 non-null  float64\n",
      " 2   lon     96257 non-null  float64\n",
      "dtypes: float64(2), int64(1)\n",
      "memory usage: 2.9 MB\n",
      "<class 'pandas.core.frame.DataFrame'>\n",
      "DatetimeIndex: 22721 entries, 2008-02-05 14:41:25 to 2008-02-08 17:39:17\n",
      "Data columns (total 3 columns):\n",
      " #   Column  Non-Null Count  Dtype  \n",
      "---  ------  --------------  -----  \n",
      " 0   id      22721 non-null  int64  \n",
      " 1   lat     22721 non-null  float64\n",
      " 2   lon     22721 non-null  float64\n",
      "dtypes: float64(2), int64(1)\n",
      "memory usage: 710.0 KB\n",
      "<class 'pandas.core.frame.DataFrame'>\n",
      "DatetimeIndex: 19999 entries, 2008-02-02 13:33:47 to 2008-02-08 17:38:16\n",
      "Data columns (total 3 columns):\n",
      " #   Column  Non-Null Count  Dtype  \n",
      "---  ------  --------------  -----  \n",
      " 0   id      19999 non-null  int64  \n",
      " 1   lat     19999 non-null  float64\n",
      " 2   lon     19999 non-null  float64\n",
      "dtypes: float64(2), int64(1)\n",
      "memory usage: 625.0 KB\n",
      "<class 'pandas.core.frame.DataFrame'>\n",
      "DatetimeIndex: 31741 entries, 2008-02-02 13:30:47 to 2008-02-08 17:39:18\n",
      "Data columns (total 3 columns):\n",
      " #   Column  Non-Null Count  Dtype  \n",
      "---  ------  --------------  -----  \n",
      " 0   id      31741 non-null  int64  \n",
      " 1   lat     31741 non-null  float64\n",
      " 2   lon     31741 non-null  float64\n",
      "dtypes: float64(2), int64(1)\n",
      "memory usage: 991.9 KB\n",
      "<class 'pandas.core.frame.DataFrame'>\n",
      "DatetimeIndex: 30554 entries, 2008-02-02 13:36:19 to 2008-02-08 17:39:15\n",
      "Data columns (total 3 columns):\n",
      " #   Column  Non-Null Count  Dtype  \n",
      "---  ------  --------------  -----  \n",
      " 0   id      30554 non-null  int64  \n",
      " 1   lat     30554 non-null  float64\n",
      " 2   lon     30554 non-null  float64\n",
      "dtypes: float64(2), int64(1)\n",
      "memory usage: 954.8 KB\n",
      "<class 'pandas.core.frame.DataFrame'>\n",
      "DatetimeIndex: 41314 entries, 2008-02-02 16:43:33 to 2008-02-08 16:45:43\n",
      "Data columns (total 3 columns):\n",
      " #   Column  Non-Null Count  Dtype  \n",
      "---  ------  --------------  -----  \n",
      " 0   id      41314 non-null  int64  \n",
      " 1   lat     41314 non-null  float64\n",
      " 2   lon     41314 non-null  float64\n",
      "dtypes: float64(2), int64(1)\n",
      "memory usage: 1.3 MB\n",
      "<class 'pandas.core.frame.DataFrame'>\n",
      "DatetimeIndex: 98631 entries, 2008-02-02 13:30:48 to 2008-02-08 17:39:15\n",
      "Data columns (total 3 columns):\n",
      " #   Column  Non-Null Count  Dtype  \n",
      "---  ------  --------------  -----  \n",
      " 0   id      98631 non-null  int64  \n",
      " 1   lat     98631 non-null  float64\n",
      " 2   lon     98631 non-null  float64\n",
      "dtypes: float64(2), int64(1)\n",
      "memory usage: 3.0 MB\n",
      "<class 'pandas.core.frame.DataFrame'>\n",
      "DatetimeIndex: 45000 entries, 2008-02-02 13:30:53 to 2008-02-08 17:39:11\n",
      "Data columns (total 3 columns):\n",
      " #   Column  Non-Null Count  Dtype  \n",
      "---  ------  --------------  -----  \n",
      " 0   id      45000 non-null  int64  \n",
      " 1   lat     45000 non-null  float64\n",
      " 2   lon     45000 non-null  float64\n",
      "dtypes: float64(2), int64(1)\n",
      "memory usage: 1.4 MB\n",
      "<class 'pandas.core.frame.DataFrame'>\n",
      "DatetimeIndex: 84274 entries, 2008-02-02 13:30:49 to 2008-02-08 17:39:18\n",
      "Data columns (total 3 columns):\n",
      " #   Column  Non-Null Count  Dtype  \n",
      "---  ------  --------------  -----  \n",
      " 0   id      84274 non-null  int64  \n",
      " 1   lat     84274 non-null  float64\n",
      " 2   lon     84274 non-null  float64\n",
      "dtypes: float64(2), int64(1)\n",
      "memory usage: 2.6 MB\n",
      "<class 'pandas.core.frame.DataFrame'>\n",
      "DatetimeIndex: 34644 entries, 2008-02-02 13:35:39 to 2008-02-08 17:39:19\n",
      "Data columns (total 3 columns):\n",
      " #   Column  Non-Null Count  Dtype  \n",
      "---  ------  --------------  -----  \n",
      " 0   id      34644 non-null  int64  \n",
      " 1   lat     34644 non-null  float64\n",
      " 2   lon     34644 non-null  float64\n",
      "dtypes: float64(2), int64(1)\n",
      "memory usage: 1.1 MB\n",
      "<class 'pandas.core.frame.DataFrame'>\n",
      "DatetimeIndex: 96402 entries, 2008-02-02 13:30:47 to 2008-02-08 17:39:18\n",
      "Data columns (total 3 columns):\n",
      " #   Column  Non-Null Count  Dtype  \n",
      "---  ------  --------------  -----  \n",
      " 0   id      96402 non-null  int64  \n",
      " 1   lat     96402 non-null  float64\n",
      " 2   lon     96402 non-null  float64\n",
      "dtypes: float64(2), int64(1)\n",
      "memory usage: 2.9 MB\n",
      "<class 'pandas.core.frame.DataFrame'>\n",
      "DatetimeIndex: 77554 entries, 2008-02-02 13:30:58 to 2008-02-08 17:39:16\n",
      "Data columns (total 3 columns):\n",
      " #   Column  Non-Null Count  Dtype  \n",
      "---  ------  --------------  -----  \n",
      " 0   id      77554 non-null  int64  \n",
      " 1   lat     77554 non-null  float64\n",
      " 2   lon     77554 non-null  float64\n",
      "dtypes: float64(2), int64(1)\n",
      "memory usage: 2.4 MB\n",
      "<class 'pandas.core.frame.DataFrame'>\n",
      "DatetimeIndex: 25979 entries, 2008-02-02 13:30:49 to 2008-02-08 17:31:04\n",
      "Data columns (total 3 columns):\n",
      " #   Column  Non-Null Count  Dtype  \n",
      "---  ------  --------------  -----  \n",
      " 0   id      25979 non-null  int64  \n",
      " 1   lat     25979 non-null  float64\n",
      " 2   lon     25979 non-null  float64\n",
      "dtypes: float64(2), int64(1)\n",
      "memory usage: 811.8 KB\n",
      "<class 'pandas.core.frame.DataFrame'>\n",
      "DatetimeIndex: 55287 entries, 2008-02-02 17:02:27 to 2008-02-08 17:09:45\n",
      "Data columns (total 3 columns):\n",
      " #   Column  Non-Null Count  Dtype  \n",
      "---  ------  --------------  -----  \n",
      " 0   id      55287 non-null  int64  \n",
      " 1   lat     55287 non-null  float64\n",
      " 2   lon     55287 non-null  float64\n",
      "dtypes: float64(2), int64(1)\n",
      "memory usage: 1.7 MB\n"
     ]
    }
   ],
   "source": [
    "from os import listdir\n",
    "from os.path import isfile, join\n",
    "\n",
    "onlyfiles = [f for f in listdir(path) if isfile(join(path, f))]\n",
    "\n",
    "for file in onlyfiles:\n",
    "    df = pd.read_csv(path + '/' + file, index_col=1, delimiter=',', header=None, parse_dates=True)\n",
    "    df.rename(columns={0: 'id', 1: 'date', 2: 'lat', 3: 'lon'}, inplace=True)\n",
    "    df.index.names = ['date']\n",
    "    df.info()\n",
    "    groups = [group[1] for group in df.groupby(df.index.date)]\n",
    "\n",
    "    counter = 10000\n",
    "    for group in groups:\n",
    "        group.id = group.id + counter\n",
    "        counter = counter + 10000\n",
    "        diff = group.index[0] - dateutil.parser.parse('2008-02-02 08:00:0' + str(randrange(10)))\n",
    "        group.index = group.index - diff\n",
    "\n",
    "        final_df = groups.pop().reset_index()\n",
    "\n",
    "        for group in groups:\n",
    "            final_df = pd.concat([final_df,group.reset_index()])\n",
    "\n",
    "        final_df.sort_values(by=['date'], inplace=True)\n",
    "        final_df = final_df.reset_index(drop=True)\n",
    "        #final_df.drop(columns=df.columns[0], axis=1, inplace=True)\n",
    "        #final_df.drop(['index'], axis=1, inplace=True)\n",
    "        final_df.to_csv(\"raw_data/P-\"+file, index=False)"
   ],
   "metadata": {
    "collapsed": false,
    "pycharm": {
     "name": "#%%\n"
    }
   }
  },
  {
   "cell_type": "code",
   "execution_count": 10,
   "outputs": [],
   "source": [
    "from os import listdir\n",
    "from os.path import isfile, join\n",
    "\n",
    "\n",
    "raw_path = 'C:/Users/Willi/PycharmProjects/taxi/source/raw_data'\n",
    "to_merge = [f for f in listdir(raw_path) if isfile(join(raw_path, f))]\n",
    "\n",
    "with open('../producer/data/P-TEST.csv', 'w') as outfile:\n",
    "    for fname in to_merge:\n",
    "        with open(raw_path+'/'+fname) as infile:\n",
    "            for line in infile:\n",
    "                outfile.write(line)\n"
   ],
   "metadata": {
    "collapsed": false,
    "pycharm": {
     "name": "#%%\n"
    }
   }
  },
  {
   "cell_type": "code",
   "execution_count": 11,
   "outputs": [],
   "source": [
    "cur = '../producer/data/P-TEST.csv'\n",
    "b = pd.read_csv(cur, delimiter=',', parse_dates=True)\n",
    "b.reset_index()\n",
    "b.sort_values(by=['date'], inplace=True)\n",
    "b.to_csv(\"../producer/data/P-TEST-d.csv\")"
   ],
   "metadata": {
    "collapsed": false,
    "pycharm": {
     "name": "#%%\n"
    }
   }
  },
  {
   "cell_type": "code",
   "execution_count": null,
   "outputs": [],
   "source": [],
   "metadata": {
    "collapsed": false,
    "pycharm": {
     "name": "#%%\n"
    }
   }
  }
 ],
 "metadata": {
  "kernelspec": {
   "display_name": "Python 3",
   "language": "python",
   "name": "python3"
  },
  "language_info": {
   "codemirror_mode": {
    "name": "ipython",
    "version": 2
   },
   "file_extension": ".py",
   "mimetype": "text/x-python",
   "name": "python",
   "nbconvert_exporter": "python",
   "pygments_lexer": "ipython2",
   "version": "2.7.6"
  }
 },
 "nbformat": 4,
 "nbformat_minor": 0
}